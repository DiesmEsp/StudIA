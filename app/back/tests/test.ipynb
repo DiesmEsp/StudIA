{
 "cells": [
  {
   "cell_type": "code",
   "execution_count": null,
   "id": "aca2bc1b",
   "metadata": {},
   "outputs": [],
   "source": [
    "from dotenv import load_dotenv\n",
    "import os\n",
    "\n",
    "# Carga la clave desde el archivo .env\n",
    "load_dotenv()\n",
    "api_key = os.getenv(\"GOOGLE_API_KEY\")\n",
    "\n",
    "api_key"
   ]
  },
  {
   "cell_type": "code",
   "execution_count": null,
   "id": "a43e9aec",
   "metadata": {},
   "outputs": [],
   "source": [
    "from langchain_google_genai import ChatGoogleGenerativeAI\n",
    "\n",
    "llm = ChatGoogleGenerativeAI(\n",
    "    model=\"gemini-2.5-flash-preview-05-20\",\n",
    "    temperature=0,\n",
    "    max_tokens=None,\n",
    "    timeout=None,\n",
    "    max_retries=2,\n",
    "    # other params...\n",
    ")"
   ]
  },
  {
   "cell_type": "code",
   "execution_count": null,
   "id": "604f1932",
   "metadata": {},
   "outputs": [],
   "source": [
    "import json\n",
    "\n",
    "# Ruta relativa al archivo cursos.json\n",
    "with open('cursos.json', 'r', encoding='utf-8') as f:\n",
    "    lista_de_cursos = json.load(f)\n",
    "\n",
    "# Ahora puedes usar lista_de_cursos como una lista de diccionarios\n",
    "for curso in lista_de_cursos:\n",
    "    print(curso[\"titulo\"])\n"
   ]
  },
  {
   "cell_type": "code",
   "execution_count": null,
   "id": "4f4ef105",
   "metadata": {},
   "outputs": [],
   "source": [
    "# Simulando entrada del usuario:\n",
    "tema_usuario = \"programación en java\"  # El tema que el usuario quiere aprender\n",
    "nivel = \"minimalista\"  # puede ser \"minimalista\" o \"detallado\""
   ]
  },
  {
   "cell_type": "code",
   "execution_count": null,
   "id": "6f1a492a",
   "metadata": {},
   "outputs": [],
   "source": [
    "# Prompt base\n",
    "prompt_base = f\"\"\"\n",
    "Eres un planificador experto en rutas de aprendizaje.\n",
    "\n",
    "Con la lista de cursos que te doy a continuación, construye un roadmap de aprendizaje.\n",
    "\n",
    "Tu objetivo es seleccionar los cursos más relevantes que contribuyan al dominio del tema, considerando temas, nivel de dificultad y prerequisitos.\n",
    "\"\"\"\n",
    "\n",
    "# Parte adaptativa según el nivel\n",
    "if nivel == \"minimalista\":\n",
    "    prompt_base += \"\"\"\n",
    "Selecciona solo los cursos estrictamente necesarios para comprender y dominar el tema principal, sin incluir cursos complementarios ni tecnologías adyacentes.\n",
    "\"\"\"\n",
    "elif nivel == \"detallado\":\n",
    "    prompt_base += \"\"\"\n",
    "Además de los cursos directamente relacionados con el tema, puedes incluir algunos cursos complementarios que aporten fundamentos técnicos o habilidades transversales útiles en contextos reales.\n",
    "\n",
    "Evita incluir cursos centrados en tecnologías no esenciales al tema principal.\n",
    "\"\"\"\n",
    "\n",
    "# Continuación fija del prompt\n",
    "prompt_base += f\"\"\"\n",
    "\n",
    "Devuélveme exclusivamente una lista de aristas (duplas) en este formato:\n",
    "\n",
    "[(curso_prerrequisito_id, curso_dependiente_id), ...]\n",
    "\n",
    "Cada dupla indica que el primer curso debe ser completado antes que el segundo. Ordena el camino desde los más básicos hasta los más avanzados.\n",
    "\n",
    "NO incluyas explicaciones ni textos adicionales, solo la lista JSON con las duplas.\n",
    "\n",
    "Aquí está la lista de cursos:\n",
    "{lista_de_cursos}\n",
    "\"\"\""
   ]
  },
  {
   "cell_type": "code",
   "execution_count": null,
   "id": "e01d5aef",
   "metadata": {},
   "outputs": [],
   "source": [
    "print(prompt_base)"
   ]
  },
  {
   "cell_type": "code",
   "execution_count": null,
   "id": "a00677d4",
   "metadata": {},
   "outputs": [],
   "source": [
    "messages = [\n",
    "    (\n",
    "        \"system\",\n",
    "        prompt_base,\n",
    "    ),\n",
    "    (\"human\", f\"Me gustaría un roadmap sobre {tema_usuario}.\"),\n",
    "]\n",
    "ai_msg = llm.invoke(messages)\n",
    "ai_msg"
   ]
  },
  {
   "cell_type": "code",
   "execution_count": null,
   "id": "0cbcc121",
   "metadata": {},
   "outputs": [],
   "source": [
    "import json\n",
    "import re\n",
    "\n",
    "respuesta = ai_msg.content\n",
    "\n",
    "# Elimina los delimitadores markdown y espacios innecesarios\n",
    "contenido_limpio = re.sub(r\"```json|```\", \"\", respuesta).strip()\n",
    "\n",
    "# Convierte el string a objeto Python (lista de diccionarios)\n",
    "json_resultado = json.loads(contenido_limpio)\n",
    "\n",
    "# Ahora puedes usarlo como un objeto normal\n",
    "print(json_resultado)\n"
   ]
  },
  {
   "cell_type": "code",
   "execution_count": null,
   "id": "417044f9",
   "metadata": {},
   "outputs": [],
   "source": [
    "# Este es tu nuevo formato\n",
    "aristas = json_resultado\n",
    "\n",
    "# Extraer nodos únicos\n",
    "ids_usados = {origen for origen, destino in aristas} | {destino for origen, destino in aristas}\n",
    "\n",
    "# Crear mapa de id → título para los nodos que aparecen\n",
    "id_a_titulo = {\n",
    "    curso[\"id\"]: curso[\"titulo\"]\n",
    "    for curso in lista_de_cursos\n",
    "    if curso[\"id\"] in ids_usados\n",
    "}\n",
    "\n",
    "id_a_titulo"
   ]
  },
  {
   "cell_type": "code",
   "execution_count": null,
   "id": "90c6b637",
   "metadata": {},
   "outputs": [],
   "source": [
    "import networkx as nx\n",
    "import matplotlib.pyplot as plt\n",
    "\n",
    "# Crear grafo dirigido\n",
    "G = nx.DiGraph()\n",
    "for origen, destino in aristas:\n",
    "    G.add_edge(id_a_titulo.get(origen, origen), id_a_titulo.get(destino, destino))\n",
    "\n",
    "# Dibujar usando spring_layout (más simple)\n",
    "plt.figure(figsize=(12, 6))\n",
    "pos = nx.spring_layout(G, k=1.2)  # puedes ajustar k para separar más los nodos\n",
    "nx.draw(G, pos, with_labels=True, node_color=\"lightgreen\", node_size=3000, font_size=9, arrows=True)\n",
    "\n",
    "plt.title(f\"ROADMAP {nivel.upper()} - {tema_usuario.upper()}\", fontsize=16)\n",
    "plt.tight_layout()\n",
    "plt.show()\n"
   ]
  }
 ],
 "metadata": {
  "kernelspec": {
   "display_name": "roadmap_ia",
   "language": "python",
   "name": "python3"
  },
  "language_info": {
   "codemirror_mode": {
    "name": "ipython",
    "version": 3
   },
   "file_extension": ".py",
   "mimetype": "text/x-python",
   "name": "python",
   "nbconvert_exporter": "python",
   "pygments_lexer": "ipython3",
   "version": "3.11.13"
  }
 },
 "nbformat": 4,
 "nbformat_minor": 5
}
